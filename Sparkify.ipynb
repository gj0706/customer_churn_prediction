{
 "cells": [
  {
   "cell_type": "markdown",
   "metadata": {},
   "source": [
    "# Customer churn prediction\n",
    "This notebook uses a subset (128MB) of the full dataset available (12GB) for the convinence of manipulating data and build machine learning model locally. "
   ]
  },
  {
   "cell_type": "code",
   "execution_count": 258,
   "metadata": {},
   "outputs": [],
   "source": [
    "# import libraries\n",
    "import datetime\n",
    "import time\n",
    "\n",
    "import numpy as np\n",
    "import pandas as pd\n",
    "import matplotlib.pyplot as plt\n",
    "import seaborn as sns\n",
    "%matplotlib inline\n",
    "\n",
    "\n",
    "from pyspark.sql import SparkSession, Window\n",
    "from pyspark.sql.functions import col, isnan, count,countDistinct, udf, min, max, avg, desc, when, length\n",
    "from pyspark.sql.functions import sum as Fsum\n",
    "from pyspark.sql.types import IntegerType\n",
    "\n",
    "from pyspark.ml import Pipeline\n",
    "from pyspark.ml.feature import VectorAssembler, Normalizer, StandardScaler\n",
    "from pyspark.ml.regression import LinearRegression\n",
    "from pyspark.ml.classification import LogisticRegression, RandomForestClassifier, GBTClassifier\n",
    "from pyspark.ml.clustering import KMeans\n",
    "from pyspark.ml.tuning import CrossValidator, ParamGridBuilder\n",
    "from pyspark.ml.evaluation import BinaryClassificationEvaluator, Evaluator\n"
   ]
  },
  {
   "cell_type": "code",
   "execution_count": 84,
   "metadata": {},
   "outputs": [],
   "source": [
    "# create a Spark session\n",
    "spark = SparkSession \\\n",
    "    .builder \\\n",
    "    .appName(\"Sparkify\") \\\n",
    "    .getOrCreate()"
   ]
  },
  {
   "cell_type": "markdown",
   "metadata": {},
   "source": [
    "# Load and Clean Dataset\n",
    "In this workspace, the mini-dataset file is `mini_sparkify_event_data.json`. Load and clean the dataset, checking for invalid or missing data - for example, records without userids or sessionids. "
   ]
  },
  {
   "cell_type": "markdown",
   "metadata": {},
   "source": [
    "### 1. Load and overview of the data"
   ]
  },
  {
   "cell_type": "code",
   "execution_count": 85,
   "metadata": {
    "scrolled": false
   },
   "outputs": [
    {
     "name": "stdout",
     "output_type": "stream",
     "text": [
      "root\n",
      " |-- artist: string (nullable = true)\n",
      " |-- auth: string (nullable = true)\n",
      " |-- firstName: string (nullable = true)\n",
      " |-- gender: string (nullable = true)\n",
      " |-- itemInSession: long (nullable = true)\n",
      " |-- lastName: string (nullable = true)\n",
      " |-- length: double (nullable = true)\n",
      " |-- level: string (nullable = true)\n",
      " |-- location: string (nullable = true)\n",
      " |-- method: string (nullable = true)\n",
      " |-- page: string (nullable = true)\n",
      " |-- registration: long (nullable = true)\n",
      " |-- sessionId: long (nullable = true)\n",
      " |-- song: string (nullable = true)\n",
      " |-- status: long (nullable = true)\n",
      " |-- ts: long (nullable = true)\n",
      " |-- userAgent: string (nullable = true)\n",
      " |-- userId: string (nullable = true)\n",
      "\n"
     ]
    }
   ],
   "source": [
    "# Load and read data as dataframe\n",
    "path = \"mini_sparkify_event_data.json\"\n",
    "df = spark.read.json(path)\n",
    "df.printSchema()"
   ]
  },
  {
   "cell_type": "code",
   "execution_count": 86,
   "metadata": {},
   "outputs": [
    {
     "name": "stdout",
     "output_type": "stream",
     "text": [
      "The data set contains 286500 rows and 18 columns\n"
     ]
    }
   ],
   "source": [
    "num_rows = df.count()\n",
    "num_cols = len(df.columns)\n",
    "print('The data set contains {} rows and {} columns'.format(num_rows, num_cols))"
   ]
  },
  {
   "cell_type": "code",
   "execution_count": 87,
   "metadata": {
    "scrolled": true
   },
   "outputs": [
    {
     "name": "stdout",
     "output_type": "stream",
     "text": [
      "+--------------+---------+---------+------+-------------+--------+---------+-----+---------------+------+--------+-------------+---------+---------+------+-------------+--------------------+------+\n",
      "|        artist|     auth|firstName|gender|itemInSession|lastName|   length|level|       location|method|    page| registration|sessionId|     song|status|           ts|           userAgent|userId|\n",
      "+--------------+---------+---------+------+-------------+--------+---------+-----+---------------+------+--------+-------------+---------+---------+------+-------------+--------------------+------+\n",
      "|Martha Tilston|Logged In|    Colin|     M|           50| Freeman|277.89016| paid|Bakersfield, CA|   PUT|NextSong|1538173362000|       29|Rockpools|   200|1538352117000|Mozilla/5.0 (Wind...|    30|\n",
      "+--------------+---------+---------+------+-------------+--------+---------+-----+---------------+------+--------+-------------+---------+---------+------+-------------+--------------------+------+\n",
      "only showing top 1 row\n",
      "\n"
     ]
    }
   ],
   "source": [
    "# Show the fist row of the dataframe\n",
    "df.show(n=1)"
   ]
  },
  {
   "cell_type": "code",
   "execution_count": 88,
   "metadata": {},
   "outputs": [
    {
     "data": {
      "text/plain": [
       "['artist',\n",
       " 'auth',\n",
       " 'firstName',\n",
       " 'gender',\n",
       " 'itemInSession',\n",
       " 'lastName',\n",
       " 'length',\n",
       " 'level',\n",
       " 'location',\n",
       " 'method',\n",
       " 'page',\n",
       " 'registration',\n",
       " 'sessionId',\n",
       " 'song',\n",
       " 'status',\n",
       " 'ts',\n",
       " 'userAgent',\n",
       " 'userId']"
      ]
     },
     "execution_count": 88,
     "metadata": {},
     "output_type": "execute_result"
    }
   ],
   "source": [
    "# Show all the columns\n",
    "df.columns"
   ]
  },
  {
   "cell_type": "markdown",
   "metadata": {},
   "source": [
    "### 2. Check missing values and clean data"
   ]
  },
  {
   "cell_type": "code",
   "execution_count": 89,
   "metadata": {},
   "outputs": [],
   "source": [
    "def check_missing_values(df):\n",
    "    \"\"\"Check the number of missing values in each columns and calculate the missing rate\n",
    "    \n",
    "    Arguments:\n",
    "        df {dataframe} -- spark dataframe\n",
    "        \n",
    "    Return: None    \n",
    "    \"\"\"\n",
    "    print('Column name         null count   null rate\\n')\n",
    "    for c in df.columns:\n",
    "        null_count = df.filter(df[c].isNull() | (df[c] == '') ).count() # Check whether each column has null value or empty string\n",
    "        null_rate = null_count/df.count() \n",
    "        print('{:15} | {:10} | {:10}'.format(c, null_count, null_rate))"
   ]
  },
  {
   "cell_type": "code",
   "execution_count": 90,
   "metadata": {
    "scrolled": true
   },
   "outputs": [
    {
     "name": "stdout",
     "output_type": "stream",
     "text": [
      "Column name         null count   null rate\n",
      "\n",
      "artist          |      58392 | 0.20381151832460734\n",
      "auth            |          0 |        0.0\n",
      "firstName       |       8346 | 0.029130890052356022\n",
      "gender          |       8346 | 0.029130890052356022\n",
      "itemInSession   |          0 |        0.0\n",
      "lastName        |       8346 | 0.029130890052356022\n",
      "length          |      58392 | 0.20381151832460734\n",
      "level           |          0 |        0.0\n",
      "location        |       8346 | 0.029130890052356022\n",
      "method          |          0 |        0.0\n",
      "page            |          0 |        0.0\n",
      "registration    |       8346 | 0.029130890052356022\n",
      "sessionId       |          0 |        0.0\n",
      "song            |      58392 | 0.20381151832460734\n",
      "status          |          0 |        0.0\n",
      "ts              |          0 |        0.0\n",
      "userAgent       |       8346 | 0.029130890052356022\n",
      "userId          |       8346 | 0.029130890052356022\n"
     ]
    }
   ],
   "source": [
    "check_missing_values(df)"
   ]
  },
  {
   "cell_type": "markdown",
   "metadata": {},
   "source": [
    "It is shown above that columns such as 'firstName', 'gender', 'lastName', 'location', 'registration' and 'userAgent' all have 8346 missing values as 'userId', because these information are all 'userId' related. Since our purpose in this project is to analyze user behavior, it would be safe to drop those rows that have no user information. \n"
   ]
  },
  {
   "cell_type": "code",
   "execution_count": 91,
   "metadata": {},
   "outputs": [],
   "source": [
    "# Drop rows with missing user id\n",
    "df_dropId = df.filter((df['userId'] != '' ) )"
   ]
  },
  {
   "cell_type": "code",
   "execution_count": 92,
   "metadata": {
    "scrolled": false
   },
   "outputs": [
    {
     "data": {
      "text/plain": [
       "278154"
      ]
     },
     "execution_count": 92,
     "metadata": {},
     "output_type": "execute_result"
    }
   ],
   "source": [
    "# Total rows left\n",
    "df_dropId.count()"
   ]
  },
  {
   "cell_type": "markdown",
   "metadata": {},
   "source": [
    "Another case is that 3 song-related columns 'artist', 'length' and 'song' have the same number of missing values. Let's check their interaction with 'page' column to get some idea. "
   ]
  },
  {
   "cell_type": "code",
   "execution_count": 93,
   "metadata": {
    "scrolled": false
   },
   "outputs": [
    {
     "name": "stdout",
     "output_type": "stream",
     "text": [
      "+--------------------+-----------+-------------+-------------+\n",
      "|                page|count(song)|count(artist)|count(length)|\n",
      "+--------------------+-----------+-------------+-------------+\n",
      "|              Cancel|          0|            0|            0|\n",
      "|    Submit Downgrade|          0|            0|            0|\n",
      "|         Thumbs Down|          0|            0|            0|\n",
      "|                Home|          0|            0|            0|\n",
      "|           Downgrade|          0|            0|            0|\n",
      "|         Roll Advert|          0|            0|            0|\n",
      "|              Logout|          0|            0|            0|\n",
      "|       Save Settings|          0|            0|            0|\n",
      "|Cancellation Conf...|          0|            0|            0|\n",
      "|               About|          0|            0|            0|\n",
      "| Submit Registration|          0|            0|            0|\n",
      "|            Settings|          0|            0|            0|\n",
      "|               Login|          0|            0|            0|\n",
      "|            Register|          0|            0|            0|\n",
      "|     Add to Playlist|          0|            0|            0|\n",
      "|          Add Friend|          0|            0|            0|\n",
      "|            NextSong|     228108|       228108|       228108|\n",
      "|           Thumbs Up|          0|            0|            0|\n",
      "|                Help|          0|            0|            0|\n",
      "|             Upgrade|          0|            0|            0|\n",
      "|               Error|          0|            0|            0|\n",
      "|      Submit Upgrade|          0|            0|            0|\n",
      "+--------------------+-----------+-------------+-------------+\n",
      "\n"
     ]
    }
   ],
   "source": [
    "df.groupby('page').agg({'artist':'count', 'length':'count', 'song':'count'}).show(25)"
   ]
  },
  {
   "cell_type": "markdown",
   "metadata": {},
   "source": [
    "The three song related columns exclusively relate with 'NextSong' in page column. We will explore it further in feature engineering section."
   ]
  },
  {
   "cell_type": "code",
   "execution_count": 95,
   "metadata": {},
   "outputs": [],
   "source": [
    "# df_drop = df_dropId.drop('artist', 'song')"
   ]
  },
  {
   "cell_type": "markdown",
   "metadata": {},
   "source": [
    "Now, with missing user ids removed, let's see how many users in total are registered. "
   ]
  },
  {
   "cell_type": "code",
   "execution_count": 96,
   "metadata": {
    "scrolled": true
   },
   "outputs": [
    {
     "name": "stdout",
     "output_type": "stream",
     "text": [
      "There are 226 unique users in the dataset.\n"
     ]
    }
   ],
   "source": [
    "# Check number of unique users\n",
    "n_users = df.select('userId').dropDuplicates().count()\n",
    "print('There are {} unique users in the dataset.'.format(n_users))"
   ]
  },
  {
   "cell_type": "markdown",
   "metadata": {},
   "source": [
    "Since user ids are unique values to idendify users, we don't need extra 'firstName' and 'lastName' columns. "
   ]
  },
  {
   "cell_type": "code",
   "execution_count": 97,
   "metadata": {},
   "outputs": [],
   "source": [
    "df_drop = df_drop.drop('firstName','lastName')"
   ]
  },
  {
   "cell_type": "code",
   "execution_count": 98,
   "metadata": {
    "scrolled": true
   },
   "outputs": [
    {
     "name": "stdout",
     "output_type": "stream",
     "text": [
      "+-------+------------------+--------------------+------------------+------------------+------------------+--------------------+\n",
      "|summary|     itemInSession|        registration|            length|         sessionId|            status|                  ts|\n",
      "+-------+------------------+--------------------+------------------+------------------+------------------+--------------------+\n",
      "|  count|            278154|              278154|            228108|            278154|            278154|              278154|\n",
      "|   mean|114.89918174824018|1.535358834085619...|249.11718197783583|1042.5616241362698|209.10321620397335|1.540958915431790...|\n",
      "| stddev|129.85172939948959|3.2913216163281236E9| 99.23517921058313| 726.5010362219864|  30.1513888513279|1.5068287123356583E9|\n",
      "|    min|                 0|       1521380675000|           0.78322|                 1|               200|       1538352117000|\n",
      "|    max|              1321|       1543247354000|        3024.66567|              2474|               404|       1543799476000|\n",
      "+-------+------------------+--------------------+------------------+------------------+------------------+--------------------+\n",
      "\n"
     ]
    }
   ],
   "source": [
    "# Take a look at numerical columns\n",
    "df_drop.select('itemInSession','registration','length','sessionId', 'status','ts').describe().show()\n"
   ]
  },
  {
   "cell_type": "code",
   "execution_count": 99,
   "metadata": {
    "scrolled": false
   },
   "outputs": [
    {
     "data": {
      "image/png": "[encoded data removed]",
      "text/plain": [
       "<Figure size 432x288 with 1 Axes>"
      ]
     },
     "metadata": {
      "needs_background": "light"
     },
     "output_type": "display_data"
    },
    {
     "data": {
      "image/png": "[encoded data removed]",
      "text/plain": [
       "<Figure size 432x288 with 1 Axes>"
      ]
     },
     "metadata": {
      "needs_background": "light"
     },
     "output_type": "display_data"
    },
    {
     "data": {
      "image/png": "[encoded data removed]",
      "text/plain": [
       "<Figure size 432x288 with 1 Axes>"
      ]
     },
     "metadata": {
      "needs_background": "light"
     },
     "output_type": "display_data"
    },
    {
     "data": {
      "image/png": "[encoded data removed]",
      "text/plain": [
       "<Figure size 432x288 with 1 Axes>"
      ]
     },
     "metadata": {
      "needs_background": "light"
     },
     "output_type": "display_data"
    }
   ],
   "source": [
    "# Take a look at categorical columns\n",
    "# count and plot occurences in each category in each column\n",
    "cat_cols = ['auth', 'gender', 'level', 'page']\n",
    "for c in cat_cols:\n",
    "    grouped = df_drop.groupby(c).count().toPandas()\n",
    "    grouped.plot.bar(x=c)"
   ]
  },
  {
   "cell_type": "markdown",
   "metadata": {},
   "source": [
    "The 'status', 'method' and 'userAgent'column contains network related records, can also be dropped. "
   ]
  },
  {
   "cell_type": "code",
   "execution_count": 100,
   "metadata": {},
   "outputs": [],
   "source": [
    "df_drop = df_drop.drop('status','method','userAgent')"
   ]
  },
  {
   "cell_type": "code",
   "execution_count": 101,
   "metadata": {
    "scrolled": true
   },
   "outputs": [],
   "source": [
    "# Show cleaned dataset\n",
    "# df_drop.show(5)"
   ]
  },
  {
   "cell_type": "markdown",
   "metadata": {},
   "source": [
    "Above we cleaned the dataframe by dropping  rows with mising user id and columns that are not relevant. The next step is to define churn and perform exploratory data analysis.  "
   ]
  },
  {
   "cell_type": "markdown",
   "metadata": {},
   "source": [
    "# Exploratory Data Analysis\n",
    "\n",
    "### 1. Define Churn\n"
   ]
  },
  {
   "cell_type": "markdown",
   "metadata": {},
   "source": [
    "About a detailed explanation about churn and churn rate, here is a [link](https://www.profitwell.com/blog/the-complete-saas-guide-to-calculating-churn-rate-and-keeping-it-simple) that I read and think is helpful. \n",
    "\n",
    "According to the link and my own understanding, in our dataset we can define churn using column \"Cancelation Confirmation\".\n",
    "\n",
    "Let's take a look at the data to identify user churn and answer some questions."
   ]
  },
  {
   "cell_type": "markdown",
   "metadata": {},
   "source": [
    "### 2. Data Exploration"
   ]
  },
  {
   "cell_type": "code",
   "execution_count": 102,
   "metadata": {
    "scrolled": true
   },
   "outputs": [
    {
     "name": "stdout",
     "output_type": "stream",
     "text": [
      "+---------+------+-------------+---------+-----+--------------------+--------+-------------+---------+-------------+------+\n",
      "|     auth|gender|itemInSession|   length|level|            location|    page| registration|sessionId|           ts|userId|\n",
      "+---------+------+-------------+---------+-----+--------------------+--------+-------------+---------+-------------+------+\n",
      "|Logged In|     M|           50|277.89016| paid|     Bakersfield, CA|NextSong|1538173362000|       29|1538352117000|    30|\n",
      "|Logged In|     M|           79|236.09424| free|Boston-Cambridge-...|NextSong|1538331630000|        8|1538352180000|     9|\n",
      "|Logged In|     M|           51| 282.8273| paid|     Bakersfield, CA|NextSong|1538173362000|       29|1538352394000|    30|\n",
      "|Logged In|     M|           80|262.71302| free|Boston-Cambridge-...|NextSong|1538331630000|        8|1538352416000|     9|\n",
      "|Logged In|     M|           52|223.60771| paid|     Bakersfield, CA|NextSong|1538173362000|       29|1538352676000|    30|\n",
      "+---------+------+-------------+---------+-----+--------------------+--------+-------------+---------+-------------+------+\n",
      "only showing top 5 rows\n",
      "\n"
     ]
    }
   ],
   "source": [
    "# Data overview\n",
    "df_drop.show(5)"
   ]
  },
  {
   "cell_type": "code",
   "execution_count": 103,
   "metadata": {
    "scrolled": true
   },
   "outputs": [
    {
     "name": "stdout",
     "output_type": "stream",
     "text": [
      "+---------+------+-------------+---------+-----+--------------------+--------+---------+------+-------------------+-------------------+\n",
      "|     auth|gender|itemInSession|   length|level|            location|    page|sessionId|userId|               time|   registrationTime|\n",
      "+---------+------+-------------+---------+-----+--------------------+--------+---------+------+-------------------+-------------------+\n",
      "|Logged In|     M|           50|277.89016| paid|     Bakersfield, CA|NextSong|       29|    30|2018-09-30 19:01:57|2018-09-28 17:22:42|\n",
      "|Logged In|     M|           79|236.09424| free|Boston-Cambridge-...|NextSong|        8|     9|2018-09-30 19:03:00|2018-09-30 13:20:30|\n",
      "|Logged In|     M|           51| 282.8273| paid|     Bakersfield, CA|NextSong|       29|    30|2018-09-30 19:06:34|2018-09-28 17:22:42|\n",
      "|Logged In|     M|           80|262.71302| free|Boston-Cambridge-...|NextSong|        8|     9|2018-09-30 19:06:56|2018-09-30 13:20:30|\n",
      "|Logged In|     M|           52|223.60771| paid|     Bakersfield, CA|NextSong|       29|    30|2018-09-30 19:11:16|2018-09-28 17:22:42|\n",
      "+---------+------+-------------+---------+-----+--------------------+--------+---------+------+-------------------+-------------------+\n",
      "only showing top 5 rows\n",
      "\n"
     ]
    }
   ],
   "source": [
    "# Format registration time and user behavior time\n",
    "format_time = udf(lambda x: datetime.datetime.fromtimestamp(x / 1000.0).strftime(\"%Y-%m-%d %H:%M:%S\"))\n",
    "df_format = df_drop.withColumn('time',format_time(df_drop.ts))\n",
    "df_format = df_format.withColumn('registrationTime', format_time(df_format.registration))\n",
    "df_format = df_format.drop('ts','registration')\n",
    "df_format.show(5)"
   ]
  },
  {
   "cell_type": "markdown",
   "metadata": {},
   "source": [
    "#### Question 1: How many users canceled their accounts? What's the proportion to all users?"
   ]
  },
  {
   "cell_type": "code",
   "execution_count": 104,
   "metadata": {},
   "outputs": [
    {
     "name": "stdout",
     "output_type": "stream",
     "text": [
      "52 users out of 226 cancelled their account. The cancel rate is 23.01%\n"
     ]
    }
   ],
   "source": [
    "cancel_user = df_format.filter(df_format['page'] == 'Cancellation Confirmation').select('userId').dropDuplicates().count()\n",
    "cancel_rate = cancel_user/ n_users * 100\n",
    "print('{} users out of {} cancelled their account. The cancel rate is {:.2f}%'.format(cancel_user, n_users, cancel_rate))"
   ]
  },
  {
   "cell_type": "markdown",
   "metadata": {},
   "source": [
    "#### Question 2: How many users with free account canceled? "
   ]
  },
  {
   "cell_type": "code",
   "execution_count": 105,
   "metadata": {
    "scrolled": true
   },
   "outputs": [
    {
     "name": "stdout",
     "output_type": "stream",
     "text": [
      "21 free users out of 226 cancelled their account. The cancel rate is 9.29%\n"
     ]
    }
   ],
   "source": [
    "# free_cancel_user = df_drop.filter((df_drop['level'] == 'free') & (df_drop['page'] == 'Cancellation Confirmation'))\n",
    "# free_cancel_user = df_format.filter((df_drop['level'] == 'free' ) & (df_format['page'] == 'Cancellation Confirmation')).select('userId','page')\n",
    "# free_cancel_user.show(5)\n",
    "free_cancel_user = df_format.filter((df_format['level'] == 'free' ) & (df_format['page'] == 'Cancellation Confirmation')).dropDuplicates().count()\n",
    "free_cancel_rate = free_cancel_user/n_users * 100\n",
    "print('{} free users out of {} cancelled their account. The cancel rate is {:.2f}%'.format(free_cancel_user, n_users, free_cancel_rate))"
   ]
  },
  {
   "cell_type": "markdown",
   "metadata": {},
   "source": [
    "#### Question 3: How many users with paid account canceled? "
   ]
  },
  {
   "cell_type": "code",
   "execution_count": 106,
   "metadata": {},
   "outputs": [
    {
     "name": "stdout",
     "output_type": "stream",
     "text": [
      "31 paid users out of 226 cancelled their account. The cancel rate is 13.72%\n"
     ]
    }
   ],
   "source": [
    "paid_cancel_user = df_format.filter((df_format['level'] == 'paid' ) & (df_format['page'] == 'Cancellation Confirmation')).dropDuplicates().count()\n",
    "paid_cancel_rate = paid_cancel_user/n_users * 100\n",
    "print('{} paid users out of {} cancelled their account. The cancel rate is {:.2f}%'.format(paid_cancel_user, n_users, paid_cancel_rate))\n"
   ]
  },
  {
   "cell_type": "code",
   "execution_count": 132,
   "metadata": {},
   "outputs": [
    {
     "data": {
      "text/plain": [
       "<matplotlib.axes._subplots.AxesSubplot at 0x1a223343d0>"
      ]
     },
     "execution_count": 132,
     "metadata": {},
     "output_type": "execute_result"
    },
    {
     "data": {
      "image/png": "[encoded data removed]",
      "text/plain": [
       "<Figure size 432x288 with 1 Axes>"
      ]
     },
     "metadata": {
      "needs_background": "light"
     },
     "output_type": "display_data"
    }
   ],
   "source": [
    "# Plot to see the distribution between paid and free users\n",
    "level_df = df_format.filter('page == \"Cancellation Confirmation\"').groupby('level').count().toPandas()\n",
    "sns.barplot(data = level_df, x = 'level', y = 'count', color = sns.color_palette()[0])"
   ]
  },
  {
   "cell_type": "markdown",
   "metadata": {},
   "source": [
    "### 3. Create churn label to identify users who churned or not"
   ]
  },
  {
   "cell_type": "code",
   "execution_count": 81,
   "metadata": {},
   "outputs": [],
   "source": [
    "# Create a boolean function to check if a user canceled or not\n",
    "flag_cancel_event = udf(lambda x: 1 if x == 'Cancellation Confirmation' else 0, IntegerType())\n",
    "df_format = df_format.withColumn('cancel_event', flag_cancel_event('page'))"
   ]
  },
  {
   "cell_type": "code",
   "execution_count": 29,
   "metadata": {
    "scrolled": false
   },
   "outputs": [
    {
     "name": "stdout",
     "output_type": "stream",
     "text": [
      "+---------+------+-------------+---------+-----+--------------------+--------+---------+------+-------------------+-------------------+-------+\n",
      "|     auth|gender|itemInSession|   length|level|            location|    page|sessionId|userId|               time|   registrationTime|churned|\n",
      "+---------+------+-------------+---------+-----+--------------------+--------+---------+------+-------------------+-------------------+-------+\n",
      "|Logged In|     M|           50|277.89016| paid|     Bakersfield, CA|NextSong|       29|    30|2018-09-30 19:01:57|2018-09-28 17:22:42|      0|\n",
      "|Logged In|     M|           79|236.09424| free|Boston-Cambridge-...|NextSong|        8|     9|2018-09-30 19:03:00|2018-09-30 13:20:30|      0|\n",
      "|Logged In|     M|           51| 282.8273| paid|     Bakersfield, CA|NextSong|       29|    30|2018-09-30 19:06:34|2018-09-28 17:22:42|      0|\n",
      "|Logged In|     M|           80|262.71302| free|Boston-Cambridge-...|NextSong|        8|     9|2018-09-30 19:06:56|2018-09-30 13:20:30|      0|\n",
      "|Logged In|     M|           52|223.60771| paid|     Bakersfield, CA|NextSong|       29|    30|2018-09-30 19:11:16|2018-09-28 17:22:42|      0|\n",
      "+---------+------+-------------+---------+-----+--------------------+--------+---------+------+-------------------+-------------------+-------+\n",
      "only showing top 5 rows\n",
      "\n"
     ]
    }
   ],
   "source": [
    "# df_format.show(5)"
   ]
  },
  {
   "cell_type": "code",
   "execution_count": 111,
   "metadata": {},
   "outputs": [],
   "source": [
    "# create churn label\n",
    "flag_churn_event = udf(lambda x: 1 if x == 'Cancellation Confirmation' else 0, IntegerType())\n",
    "df_format = df_format.withColumn('churn_event', flag_churn_event('page'))\n",
    "\n",
    "# label user who churned\n",
    "windowval = Window.partitionBy('userId')\n",
    "df_format = df_format.withColumn('churned', max('churn_event').over(windowval))"
   ]
  },
  {
   "cell_type": "code",
   "execution_count": 110,
   "metadata": {},
   "outputs": [
    {
     "name": "stdout",
     "output_type": "stream",
     "text": [
      "+---------+------+-------------+---------+-----+--------------------+---------+---------+------+-------------------+-------------------+-----------+-----+\n",
      "|     auth|gender|itemInSession|   length|level|            location|     page|sessionId|userId|               time|   registrationTime|churn_event|churn|\n",
      "+---------+------+-------------+---------+-----+--------------------+---------+---------+------+-------------------+-------------------+-----------+-----+\n",
      "|Logged In|     F|            0|202.97098| free|Bridgeport-Stamfo...| NextSong|       31|100010|2018-10-08 07:58:54|2018-09-26 21:45:40|          0|    0|\n",
      "|Logged In|     F|            1|196.54485| free|Bridgeport-Stamfo...| NextSong|       31|100010|2018-10-08 08:02:16|2018-09-26 21:45:40|          0|    0|\n",
      "|Logged In|     F|            2|263.13098| free|Bridgeport-Stamfo...| NextSong|       31|100010|2018-10-08 08:05:32|2018-09-26 21:45:40|          0|    0|\n",
      "|Logged In|     F|            3|     null| free|Bridgeport-Stamfo...|Thumbs Up|       31|100010|2018-10-08 08:05:33|2018-09-26 21:45:40|          0|    0|\n",
      "|Logged In|     F|            4|316.23791| free|Bridgeport-Stamfo...| NextSong|       31|100010|2018-10-08 08:09:55|2018-09-26 21:45:40|          0|    0|\n",
      "+---------+------+-------------+---------+-----+--------------------+---------+---------+------+-------------------+-------------------+-----------+-----+\n",
      "only showing top 5 rows\n",
      "\n"
     ]
    }
   ],
   "source": [
    "df_format.show(5)"
   ]
  },
  {
   "cell_type": "markdown",
   "metadata": {},
   "source": [
    "#### Question 1: Churn happened most likely at what time of the day?"
   ]
  },
  {
   "cell_type": "code",
   "execution_count": 112,
   "metadata": {},
   "outputs": [],
   "source": [
    "# format timestamp to hours and creat a new column\n",
    "get_hour = udf(lambda x: datetime.datetime.fromtimestamp(x/1000.0).hour, IntegerType())\n",
    "df_hour = df.withColumn('hour',get_hour(df.ts))\n",
    "\n",
    "# format timestamp to days of a week and creat a new column\n",
    "get_weekday = udf(lambda x: datetime.datetime.fromtimestamp(x/1000.0).weekday(), IntegerType())\n",
    "df_weekday = df.withColumn('weekday',get_weekday(df.ts))\n",
    "\n",
    "\n",
    "\n",
    "# format timestamp to days and creat a new column\n",
    "get_day = udf(lambda x: datetime.datetime.fromtimestamp(x/1000.0).day, IntegerType())\n",
    "df_day = df.withColumn('day',get_day(df.ts))\n"
   ]
  },
  {
   "cell_type": "code",
   "execution_count": 113,
   "metadata": {
    "scrolled": false
   },
   "outputs": [
    {
     "data": {
      "text/plain": [
       "Text(0, 0.5, 'Number of churned users')"
      ]
     },
     "execution_count": 113,
     "metadata": {},
     "output_type": "execute_result"
    },
    {
     "data": {
      "image/png": "[encoded data removed]",
      "text/plain": [
       "<Figure size 432x288 with 1 Axes>"
      ]
     },
     "metadata": {
      "needs_background": "light"
     },
     "output_type": "display_data"
    }
   ],
   "source": [
    "# Count numbers of users who churned by hours of the day and plot the result\n",
    "cancel_hour = df_hour.filter(df_hour.page == 'Cancellation Confirmation').select(['userId','page','hour']).toPandas()\n",
    "user_count_cancel = cancel_hour.groupby('hour').userId.count()\n",
    "user_count_cancel= user_count_cancel.reset_index(name='userCount').sort_values(by='hour')\n",
    "sns.barplot(data=user_count_cancel, x=user_count_cancel['hour'], y=user_count_cancel['userCount'], color=sns.color_palette()[0])\n",
    "plt.xlabel('Hour of a day')\n",
    "plt.ylabel('Number of churned users')"
   ]
  },
  {
   "cell_type": "code",
   "execution_count": 114,
   "metadata": {
    "scrolled": true
   },
   "outputs": [
    {
     "data": {
      "text/plain": [
       "Text(0, 0.5, 'Number of churned users')"
      ]
     },
     "execution_count": 114,
     "metadata": {},
     "output_type": "execute_result"
    },
    {
     "data": {
      "image/png": "[encoded data removed]",
      "text/plain": [
       "<Figure size 432x288 with 1 Axes>"
      ]
     },
     "metadata": {
      "needs_background": "light"
     },
     "output_type": "display_data"
    }
   ],
   "source": [
    "# Count numbers of users who churned by days of the week and plot the result\n",
    "cancel_weekday = df_weekday.filter(df_weekday.page == 'Cancellation Confirmation').select(['userId','page','weekday']).toPandas()\n",
    "user_count_weekday = cancel_weekday.groupby('weekday').userId.count()\n",
    "user_count_weekday= user_count_weekday.reset_index(name='userCount').sort_values(by='weekday')\n",
    "sns.barplot(data=user_count_weekday, x=user_count_weekday['weekday'], y=user_count_cancel['userCount'], color=sns.color_palette()[0])\n",
    "plt.xlabel('Days of a week')\n",
    "plt.ylabel('Number of churned users')"
   ]
  },
  {
   "cell_type": "markdown",
   "metadata": {},
   "source": [
    "It shows that more people churned on Tuesday"
   ]
  },
  {
   "cell_type": "code",
   "execution_count": 115,
   "metadata": {
    "scrolled": true
   },
   "outputs": [
    {
     "data": {
      "text/plain": [
       "Text(0, 0.5, 'Number of churned users')"
      ]
     },
     "execution_count": 115,
     "metadata": {},
     "output_type": "execute_result"
    },
    {
     "data": {
      "image/png": "[encoded data removed]",
      "text/plain": [
       "<Figure size 432x288 with 1 Axes>"
      ]
     },
     "metadata": {
      "needs_background": "light"
     },
     "output_type": "display_data"
    }
   ],
   "source": [
    "# Count numbers of users who churned by days of the week and plot the result\n",
    "cancel_day = df_day.filter(df_day.page == 'Cancellation Confirmation').select(['userId','page','day']).toPandas()\n",
    "user_count_day = cancel_day.groupby('day').userId.count()\n",
    "user_count_day= user_count_day.reset_index(name='userCount').sort_values(by='day')\n",
    "sns.barplot(data=user_count_day, x=user_count_day['day'], y=user_count_day['userCount'], color=sns.color_palette()[0])\n",
    "plt.xlabel('Days of a month')\n",
    "plt.ylabel('Number of churned users')"
   ]
  },
  {
   "cell_type": "markdown",
   "metadata": {},
   "source": [
    "The above bar chart shows that people tend to Churn at 10am, 1pm and 2am. "
   ]
  },
  {
   "cell_type": "markdown",
   "metadata": {},
   "source": [
    "####  Question 2: Is there any difference in genders in terms of churn?"
   ]
  },
  {
   "cell_type": "code",
   "execution_count": 129,
   "metadata": {
    "scrolled": false
   },
   "outputs": [
    {
     "data": {
      "text/html": [
       "<div>\n",
       "<style scoped>\n",
       "    .dataframe tbody tr th:only-of-type {\n",
       "        vertical-align: middle;\n",
       "    }\n",
       "\n",
       "    .dataframe tbody tr th {\n",
       "        vertical-align: top;\n",
       "    }\n",
       "\n",
       "    .dataframe thead th {\n",
       "        text-align: right;\n",
       "    }\n",
       "</style>\n",
       "<table border=\"1\" class=\"dataframe\">\n",
       "  <thead>\n",
       "    <tr style=\"text-align: right;\">\n",
       "      <th></th>\n",
       "      <th>churned</th>\n",
       "      <th>gender</th>\n",
       "      <th>count</th>\n",
       "    </tr>\n",
       "  </thead>\n",
       "  <tbody>\n",
       "    <tr>\n",
       "      <td>0</td>\n",
       "      <td>0</td>\n",
       "      <td>M</td>\n",
       "      <td>89</td>\n",
       "    </tr>\n",
       "    <tr>\n",
       "      <td>1</td>\n",
       "      <td>0</td>\n",
       "      <td>F</td>\n",
       "      <td>84</td>\n",
       "    </tr>\n",
       "    <tr>\n",
       "      <td>2</td>\n",
       "      <td>1</td>\n",
       "      <td>F</td>\n",
       "      <td>20</td>\n",
       "    </tr>\n",
       "    <tr>\n",
       "      <td>3</td>\n",
       "      <td>1</td>\n",
       "      <td>M</td>\n",
       "      <td>32</td>\n",
       "    </tr>\n",
       "  </tbody>\n",
       "</table>\n",
       "</div>"
      ],
      "text/plain": [
       "   churned gender  count\n",
       "0        0      M     89\n",
       "1        0      F     84\n",
       "2        1      F     20\n",
       "3        1      M     32"
      ]
     },
     "execution_count": 129,
     "metadata": {},
     "output_type": "execute_result"
    }
   ],
   "source": [
    "gender_churn = df_format.drop_duplicates(['userId', 'gender']).groupby(['churned', 'gender']).count().sort(\"churned\").toPandas()\n",
    "gender_churn.head()"
   ]
  },
  {
   "cell_type": "code",
   "execution_count": 130,
   "metadata": {
    "scrolled": false
   },
   "outputs": [
    {
     "data": {
      "text/plain": [
       "<matplotlib.axes._subplots.AxesSubplot at 0x1a21feb650>"
      ]
     },
     "execution_count": 130,
     "metadata": {},
     "output_type": "execute_result"
    },
    {
     "data": {
      "image/png": "[encoded data removed]",
      "text/plain": [
       "<Figure size 432x288 with 1 Axes>"
      ]
     },
     "metadata": {
      "needs_background": "light"
     },
     "output_type": "display_data"
    }
   ],
   "source": [
    "sns.barplot(x = 'churned', y = 'count', data = gender_churn, hue = 'gender')"
   ]
  },
  {
   "cell_type": "markdown",
   "metadata": {},
   "source": [
    "We can see that there are more men users than women users in both churned and not churned category. "
   ]
  },
  {
   "cell_type": "markdown",
   "metadata": {},
   "source": [
    "#### Question 3: Is there any difference between churned and not churned users with respect to number of songs played per session?"
   ]
  },
  {
   "cell_type": "code",
   "execution_count": 157,
   "metadata": {
    "scrolled": false
   },
   "outputs": [
    {
     "data": {
      "text/html": [
       "<div>\n",
       "<style scoped>\n",
       "    .dataframe tbody tr th:only-of-type {\n",
       "        vertical-align: middle;\n",
       "    }\n",
       "\n",
       "    .dataframe tbody tr th {\n",
       "        vertical-align: top;\n",
       "    }\n",
       "\n",
       "    .dataframe thead th {\n",
       "        text-align: right;\n",
       "    }\n",
       "</style>\n",
       "<table border=\"1\" class=\"dataframe\">\n",
       "  <thead>\n",
       "    <tr style=\"text-align: right;\">\n",
       "      <th></th>\n",
       "      <th>churned</th>\n",
       "      <th>userId</th>\n",
       "      <th>songsPerSession</th>\n",
       "    </tr>\n",
       "  </thead>\n",
       "  <tbody>\n",
       "    <tr>\n",
       "      <td>0</td>\n",
       "      <td>0</td>\n",
       "      <td>100010</td>\n",
       "      <td>39.285714</td>\n",
       "    </tr>\n",
       "    <tr>\n",
       "      <td>1</td>\n",
       "      <td>0</td>\n",
       "      <td>200002</td>\n",
       "      <td>64.500000</td>\n",
       "    </tr>\n",
       "    <tr>\n",
       "      <td>2</td>\n",
       "      <td>1</td>\n",
       "      <td>125</td>\n",
       "      <td>8.000000</td>\n",
       "    </tr>\n",
       "    <tr>\n",
       "      <td>3</td>\n",
       "      <td>0</td>\n",
       "      <td>124</td>\n",
       "      <td>145.678571</td>\n",
       "    </tr>\n",
       "    <tr>\n",
       "      <td>4</td>\n",
       "      <td>1</td>\n",
       "      <td>51</td>\n",
       "      <td>211.100000</td>\n",
       "    </tr>\n",
       "  </tbody>\n",
       "</table>\n",
       "</div>"
      ],
      "text/plain": [
       "   churned  userId  songsPerSession\n",
       "0        0  100010        39.285714\n",
       "1        0  200002        64.500000\n",
       "2        1     125         8.000000\n",
       "3        0     124       145.678571\n",
       "4        1      51       211.100000"
      ]
     },
     "execution_count": 157,
     "metadata": {},
     "output_type": "execute_result"
    }
   ],
   "source": [
    "# total_songs_df = df_format.where('page == \"NextSong\"').groupby(['churned', 'userId', 'sessionId']).count()\\\n",
    "#     .groupby(['churned', 'userId']).agg({'count': 'avg'})\\\n",
    "#     .withColumnRenamed('avg(count)', 'songsPerSession').toPandas()\n",
    "# total_songs_df.head()"
   ]
  },
  {
   "cell_type": "code",
   "execution_count": 164,
   "metadata": {},
   "outputs": [
    {
     "ename": "SyntaxError",
     "evalue": "unexpected EOF while parsing (<ipython-input-164-5eec01bca7d2>, line 1)",
     "output_type": "error",
     "traceback": [
      "\u001b[0;36m  File \u001b[0;32m\"<ipython-input-164-5eec01bca7d2>\"\u001b[0;36m, line \u001b[0;32m1\u001b[0m\n\u001b[0;31m    def avg_songs(col):\u001b[0m\n\u001b[0m                       ^\u001b[0m\n\u001b[0;31mSyntaxError\u001b[0m\u001b[0;31m:\u001b[0m unexpected EOF while parsing\n"
     ]
    }
   ],
   "source": [
    "def avg_songs(col):\n",
    "    "
   ]
  },
  {
   "cell_type": "code",
   "execution_count": 163,
   "metadata": {
    "scrolled": true
   },
   "outputs": [
    {
     "data": {
      "text/html": [
       "<div>\n",
       "<style scoped>\n",
       "    .dataframe tbody tr th:only-of-type {\n",
       "        vertical-align: middle;\n",
       "    }\n",
       "\n",
       "    .dataframe tbody tr th {\n",
       "        vertical-align: top;\n",
       "    }\n",
       "\n",
       "    .dataframe thead th {\n",
       "        text-align: right;\n",
       "    }\n",
       "</style>\n",
       "<table border=\"1\" class=\"dataframe\">\n",
       "  <thead>\n",
       "    <tr style=\"text-align: right;\">\n",
       "      <th></th>\n",
       "      <th>churned</th>\n",
       "      <th>userId</th>\n",
       "      <th>sessionId</th>\n",
       "    </tr>\n",
       "  </thead>\n",
       "  <tbody>\n",
       "    <tr>\n",
       "      <td>0</td>\n",
       "      <td>0</td>\n",
       "      <td>100010</td>\n",
       "      <td>31</td>\n",
       "    </tr>\n",
       "    <tr>\n",
       "      <td>1</td>\n",
       "      <td>0</td>\n",
       "      <td>100010</td>\n",
       "      <td>31</td>\n",
       "    </tr>\n",
       "    <tr>\n",
       "      <td>2</td>\n",
       "      <td>0</td>\n",
       "      <td>100010</td>\n",
       "      <td>31</td>\n",
       "    </tr>\n",
       "    <tr>\n",
       "      <td>3</td>\n",
       "      <td>0</td>\n",
       "      <td>100010</td>\n",
       "      <td>31</td>\n",
       "    </tr>\n",
       "    <tr>\n",
       "      <td>4</td>\n",
       "      <td>0</td>\n",
       "      <td>100010</td>\n",
       "      <td>31</td>\n",
       "    </tr>\n",
       "  </tbody>\n",
       "</table>\n",
       "</div>"
      ],
      "text/plain": [
       "   churned  userId  sessionId\n",
       "0        0  100010         31\n",
       "1        0  100010         31\n",
       "2        0  100010         31\n",
       "3        0  100010         31\n",
       "4        0  100010         31"
      ]
     },
     "execution_count": 163,
     "metadata": {},
     "output_type": "execute_result"
    }
   ],
   "source": [
    "total_songs_df = df_format.filter(df_format.page == 'NextSong').select('churned','userId','sessionId').toPandas()\n",
    "total_songs_df.head()"
   ]
  },
  {
   "cell_type": "code",
   "execution_count": null,
   "metadata": {},
   "outputs": [],
   "source": [
    "total_songs_df.groupby('churned').agg({'sessionId':ave})"
   ]
  },
  {
   "cell_type": "code",
   "execution_count": 160,
   "metadata": {},
   "outputs": [
    {
     "data": {
      "text/plain": [
       "<matplotlib.axes._subplots.AxesSubplot at 0x1a2191e3d0>"
      ]
     },
     "execution_count": 160,
     "metadata": {},
     "output_type": "execute_result"
    },
    {
     "data": {
      "image/png": "[encoded data removed]",
      "text/plain": [
       "<Figure size 432x288 with 1 Axes>"
      ]
     },
     "metadata": {
      "needs_background": "light"
     },
     "output_type": "display_data"
    }
   ],
   "source": [
    "sns.barplot(x = 'churned', y = 'songsPerSession', data = total_songs_df, hue = 'churned')"
   ]
  },
  {
   "cell_type": "code",
   "execution_count": null,
   "metadata": {},
   "outputs": [],
   "source": []
  },
  {
   "cell_type": "code",
   "execution_count": null,
   "metadata": {},
   "outputs": [],
   "source": []
  },
  {
   "cell_type": "code",
   "execution_count": null,
   "metadata": {},
   "outputs": [],
   "source": []
  },
  {
   "cell_type": "code",
   "execution_count": null,
   "metadata": {},
   "outputs": [],
   "source": []
  },
  {
   "cell_type": "code",
   "execution_count": null,
   "metadata": {},
   "outputs": [],
   "source": []
  },
  {
   "cell_type": "code",
   "execution_count": null,
   "metadata": {},
   "outputs": [],
   "source": []
  },
  {
   "cell_type": "code",
   "execution_count": null,
   "metadata": {},
   "outputs": [],
   "source": []
  },
  {
   "cell_type": "markdown",
   "metadata": {},
   "source": [
    "# Feature Engineering\n",
    "Since we now familiar with the data, the next stept is to build out the features I find promising to train the model on. To work with the full dataset, you can follow the following steps.\n",
    "- Write a script to extract the necessary features from the smaller subset of data\n",
    "- Ensure that your script is scalable, using the best practices discussed in Lesson 3\n",
    "- Try your script on the full data set, debugging your script if necessary\n"
   ]
  },
  {
   "cell_type": "markdown",
   "metadata": {},
   "source": [
    "### Feature 1:  Total number of songs per user has listened"
   ]
  },
  {
   "cell_type": "code",
   "execution_count": 170,
   "metadata": {},
   "outputs": [
    {
     "name": "stdout",
     "output_type": "stream",
     "text": [
      "+------+---------+\n",
      "|userId|totalSong|\n",
      "+------+---------+\n",
      "|100010|      381|\n",
      "|200002|      474|\n",
      "|   125|       11|\n",
      "|    51|     2464|\n",
      "|   124|     4825|\n",
      "+------+---------+\n",
      "only showing top 5 rows\n",
      "\n"
     ]
    }
   ],
   "source": [
    "feat1 = df.select('userId','song').groupby('userId').count().withColumnRenamed('count','totalSong')\n",
    "feat1.show(5)"
   ]
  },
  {
   "cell_type": "markdown",
   "metadata": {},
   "source": [
    "### Feature 2: User lifetime "
   ]
  },
  {
   "cell_type": "code",
   "execution_count": null,
   "metadata": {},
   "outputs": [],
   "source": [
    "feat2 = df.select('userId','registration','ts')\\\n",
    "    .withColumn('totalLifetime',(df.ts - df.registration))\\\n",
    "    .groupby('userId')\\\n",
    "    .agg({'totalLifetime':'max'}).withColumnRenamed('max(totalLifetime)','totalLifetime')\\\n",
    "    .select('userId', (col('totalLifetime')/1000/3600/24).alias('totalLifetime'))\n",
    "                \n",
    "feat2.show(5)"
   ]
  },
  {
   "cell_type": "markdown",
   "metadata": {},
   "source": [
    "### Feature 3: Average number of  songs listened per session"
   ]
  },
  {
   "cell_type": "code",
   "execution_count": 225,
   "metadata": {},
   "outputs": [
    {
     "name": "stdout",
     "output_type": "stream",
     "text": [
      "+------+------------------+\n",
      "|userId|avgSongsPerSession|\n",
      "+------+------------------+\n",
      "|100010|39.285714285714285|\n",
      "|200002|              64.5|\n",
      "|   125|               8.0|\n",
      "|    51|             211.1|\n",
      "|   124|145.67857142857142|\n",
      "+------+------------------+\n",
      "only showing top 5 rows\n",
      "\n"
     ]
    }
   ],
   "source": [
    "feat3 = df.filter(df.page == 'NextSong') \\\n",
    "    .groupby(['userId', 'sessionId']) \\\n",
    "    .count() \\\n",
    "    .groupby(['userId']) \\\n",
    "    .agg({'count':'avg'}) \\\n",
    "    .withColumnRenamed('avg(count)', 'avgSongsPerSession')\n",
    "feat3.show(5)"
   ]
  },
  {
   "cell_type": "markdown",
   "metadata": {},
   "source": [
    "### Feature 4: Number of thumbs up"
   ]
  },
  {
   "cell_type": "code",
   "execution_count": 186,
   "metadata": {},
   "outputs": [
    {
     "name": "stdout",
     "output_type": "stream",
     "text": [
      "+------+-------------+\n",
      "|userId|totalThumbsup|\n",
      "+------+-------------+\n",
      "|100010|           17|\n",
      "|200002|           21|\n",
      "|    51|          100|\n",
      "|   124|          171|\n",
      "|     7|            7|\n",
      "+------+-------------+\n",
      "only showing top 5 rows\n",
      "\n"
     ]
    }
   ],
   "source": [
    "feat4 = df.filter(df.page == 'Thumbs Up').select('userId').groupby('userId').count().withColumnRenamed('count','totalThumbsup')\n",
    "feat4.show(5)"
   ]
  },
  {
   "cell_type": "markdown",
   "metadata": {},
   "source": [
    "### Feature 5: Number of thumbs down"
   ]
  },
  {
   "cell_type": "code",
   "execution_count": 187,
   "metadata": {},
   "outputs": [
    {
     "name": "stdout",
     "output_type": "stream",
     "text": [
      "+------+---------------+\n",
      "|userId|totalThumbsdown|\n",
      "+------+---------------+\n",
      "|100010|              5|\n",
      "|200002|              6|\n",
      "|    51|             21|\n",
      "|   124|             41|\n",
      "|     7|              1|\n",
      "+------+---------------+\n",
      "only showing top 5 rows\n",
      "\n"
     ]
    }
   ],
   "source": [
    "feat5 = df.filter(df.page == 'Thumbs Down').select('userId').groupby('userId').count().withColumnRenamed('count','totalThumbsdown')\n",
    "feat5.show(5)"
   ]
  },
  {
   "cell_type": "markdown",
   "metadata": {},
   "source": [
    "### Feature 6:  Total number of adding friends"
   ]
  },
  {
   "cell_type": "code",
   "execution_count": 223,
   "metadata": {},
   "outputs": [
    {
     "name": "stdout",
     "output_type": "stream",
     "text": [
      "+------+--------------+\n",
      "|userId|totalAddFriend|\n",
      "+------+--------------+\n",
      "|100010|             4|\n",
      "|200002|             4|\n",
      "|    51|            28|\n",
      "|   124|            74|\n",
      "|     7|             1|\n",
      "+------+--------------+\n",
      "only showing top 5 rows\n",
      "\n"
     ]
    }
   ],
   "source": [
    "feat6 = df.filter(df.page == 'Add Friend').select('userId').groupby('userId').count().withColumnRenamed('count','totalAddFriend')\n",
    "feat6.show(5)"
   ]
  },
  {
   "cell_type": "markdown",
   "metadata": {},
   "source": [
    "### Feature 7: Total number of adding to playlist"
   ]
  },
  {
   "cell_type": "code",
   "execution_count": 222,
   "metadata": {},
   "outputs": [
    {
     "name": "stdout",
     "output_type": "stream",
     "text": [
      "+------+------------+\n",
      "|userId|totalAddList|\n",
      "+------+------------+\n",
      "|100010|           7|\n",
      "|200002|           8|\n",
      "|    51|          52|\n",
      "|   124|         118|\n",
      "|     7|           5|\n",
      "+------+------------+\n",
      "only showing top 5 rows\n",
      "\n"
     ]
    }
   ],
   "source": [
    "feat7 = df.filter(df.page == 'Add to Playlist').select('userId').groupby('userId').count().withColumnRenamed('count','totalAddList')\n",
    "feat7.show(5)\n"
   ]
  },
  {
   "cell_type": "markdown",
   "metadata": {},
   "source": [
    "### Feature 8: Total length of listening to songs per user"
   ]
  },
  {
   "cell_type": "code",
   "execution_count": 221,
   "metadata": {},
   "outputs": [
    {
     "name": "stdout",
     "output_type": "stream",
     "text": [
      "+------+------------------+\n",
      "|userId| totalListenLength|\n",
      "+------+------------------+\n",
      "|100010|       66940.89735|\n",
      "|200002| 94008.87593999993|\n",
      "|   125|2089.1131000000005|\n",
      "|    51| 523275.8428000004|\n",
      "|   124|1012312.0927900008|\n",
      "+------+------------------+\n",
      "only showing top 5 rows\n",
      "\n"
     ]
    }
   ],
   "source": [
    "feat8 = df.select('userId','length').groupby('userId').sum().withColumnRenamed('sum(length)', 'totalListenLength')\n",
    "feat8.show(5)"
   ]
  },
  {
   "cell_type": "markdown",
   "metadata": {},
   "source": [
    "### Feature 9: Total number of interactions per user"
   ]
  },
  {
   "cell_type": "code",
   "execution_count": 220,
   "metadata": {},
   "outputs": [
    {
     "name": "stdout",
     "output_type": "stream",
     "text": [
      "+------+----------------+\n",
      "|userId|totalInteraction|\n",
      "+------+----------------+\n",
      "|100010|             381|\n",
      "|200002|             474|\n",
      "|   125|              11|\n",
      "|    51|            2464|\n",
      "|   124|            4825|\n",
      "+------+----------------+\n",
      "only showing top 5 rows\n",
      "\n"
     ]
    }
   ],
   "source": [
    "feat9 = df.groupby('userId').count().withColumnRenamed('count','totalInteraction')\n",
    "feat9.show(5)"
   ]
  },
  {
   "cell_type": "markdown",
   "metadata": {},
   "source": [
    "### Feature 10: Whether a user downgraded or not"
   ]
  },
  {
   "cell_type": "code",
   "execution_count": 211,
   "metadata": {},
   "outputs": [
    {
     "name": "stdout",
     "output_type": "stream",
     "text": [
      "+------+----------+\n",
      "|userId|downgraded|\n",
      "+------+----------+\n",
      "|100010|         0|\n",
      "|200002|         0|\n",
      "|   125|         0|\n",
      "|   124|         0|\n",
      "|    51|         0|\n",
      "|     7|         0|\n",
      "|    15|         0|\n",
      "|    54|         1|\n",
      "|   155|         0|\n",
      "|100014|         0|\n",
      "+------+----------+\n",
      "only showing top 10 rows\n",
      "\n"
     ]
    }
   ],
   "source": [
    "# create downgrade flag\n",
    "flag_downgrade_event = udf(lambda x: 1 if x == 'Submit Downgrade' else 0, IntegerType())\n",
    "df = df.withColumn('downgrade_event', flag_downgrade_event('page'))\n",
    "\n",
    "# label user who downgraded\n",
    "windowvald = Window.partitionBy('userId')\n",
    "df = df.withColumn('downgraded', max('downgrade_event').over(windowvald))\n",
    "\n",
    "feat10 = df.select('userId','downgraded').dropDuplicates()\n",
    "feat10.show(10)"
   ]
  },
  {
   "cell_type": "markdown",
   "metadata": {},
   "source": [
    "### Feature 11:  Whether a user paid or not "
   ]
  },
  {
   "cell_type": "code",
   "execution_count": 230,
   "metadata": {
    "scrolled": false
   },
   "outputs": [
    {
     "name": "stdout",
     "output_type": "stream",
     "text": [
      "+------+----+\n",
      "|userId|paid|\n",
      "+------+----+\n",
      "|100010|   0|\n",
      "|200002|   1|\n",
      "|   125|   0|\n",
      "|   124|   1|\n",
      "|    51|   1|\n",
      "+------+----+\n",
      "only showing top 5 rows\n",
      "\n"
     ]
    }
   ],
   "source": [
    "# create paid flag\n",
    "flag_paid_event = udf(lambda x: 1 if x == 'paid' else 0, IntegerType())\n",
    "df = df.withColumn('paid_event', flag_paid_event('level'))\n",
    "\n",
    "# label user who paid\n",
    "windowvalp = Window.partitionBy('userId')\n",
    "df = df.withColumn('paid', max('paid_event').over(windowvalp))\n",
    "\n",
    "feat11 = df.select('userId','paid').dropDuplicates()\n",
    "feat11.show(5)"
   ]
  },
  {
   "cell_type": "markdown",
   "metadata": {},
   "source": [
    "### Label for prediction"
   ]
  },
  {
   "cell_type": "code",
   "execution_count": 240,
   "metadata": {
    "scrolled": true
   },
   "outputs": [
    {
     "name": "stdout",
     "output_type": "stream",
     "text": [
      "+------+-----+\n",
      "|userId|label|\n",
      "+------+-----+\n",
      "|100010|    0|\n",
      "|200002|    0|\n",
      "|   125|    1|\n",
      "|   124|    0|\n",
      "|    51|    1|\n",
      "+------+-----+\n",
      "only showing top 5 rows\n",
      "\n"
     ]
    }
   ],
   "source": [
    "label = df_format.select('userId',df_format.churned.alias('label')).dropDuplicates()\n",
    "label.show(5)"
   ]
  },
  {
   "cell_type": "markdown",
   "metadata": {},
   "source": [
    "### Wrap up all the features together"
   ]
  },
  {
   "cell_type": "code",
   "execution_count": 241,
   "metadata": {
    "scrolled": true
   },
   "outputs": [
    {
     "name": "stdout",
     "output_type": "stream",
     "text": [
      "+---------+------------------+------------------+-------------+---------------+--------------+------------+------------------+----------------+----------+----+-----+\n",
      "|totalSong|     totalLifetime|avgSongsPerSession|totalThumbsup|totalThumbsdown|totalAddFriend|totalAddList| totalListenLength|totalInteraction|downgraded|paid|label|\n",
      "+---------+------------------+------------------+-------------+---------------+--------------+------------+------------------+----------------+----------+----+-----+\n",
      "|      381|  55.6436574074074|39.285714285714285|           17|              5|             4|           7|       66940.89735|             381|         0|   0|    0|\n",
      "|      474| 70.07462962962963|              64.5|           21|              6|             4|           8| 94008.87593999993|             474|         0|   1|    0|\n",
      "|     4825|131.55591435185184|145.67857142857142|          171|             41|            74|         118|1012312.0927900008|            4825|         0|   1|    0|\n",
      "|     2464|19.455844907407407|             211.1|          100|             21|            28|          52| 523275.8428000004|            2464|         0|   1|    1|\n",
      "|      201| 72.77818287037037|21.428571428571427|            7|              1|             1|           5|        38034.0871|             201|         0|   0|    0|\n",
      "+---------+------------------+------------------+-------------+---------------+--------------+------------+------------------+----------------+----------+----+-----+\n",
      "only showing top 5 rows\n",
      "\n"
     ]
    }
   ],
   "source": [
    "model_df = feat1.join(feat2,'userId','inner') \\\n",
    "    .join(feat3,'userId','inner') \\\n",
    "    .join(feat4,'userId','inner') \\\n",
    "    .join(feat5,'userId','inner') \\\n",
    "    .join(feat6,'userId','inner') \\\n",
    "    .join(feat7,'userId','inner') \\\n",
    "    .join(feat8,'userId','inner') \\\n",
    "    .join(feat9,'userId','inner') \\\n",
    "    .join(feat10,'userId','inner') \\\n",
    "    .join(feat11,'userId','inner') \\\n",
    "    .join(label,'userId','inner') \\\n",
    "    .drop('userId')\n",
    "model_df.show(5)"
   ]
  },
  {
   "cell_type": "code",
   "execution_count": 242,
   "metadata": {},
   "outputs": [],
   "source": [
    "model_df.write.mode('overwrite').save('model_df.json')"
   ]
  },
  {
   "cell_type": "markdown",
   "metadata": {},
   "source": [
    "# Modeling\n",
    "Split the full dataset into train, test, and validation sets. Test out several of the machine learning methods you learned. Evaluate the accuracy of the various models, tuning parameters as necessary. Determine your winning model based on test accuracy and report results on the validation set. Since the churned users are a fairly small subset, I suggest using F1 score as the metric to optimize."
   ]
  },
  {
   "cell_type": "code",
   "execution_count": 291,
   "metadata": {
    "scrolled": true
   },
   "outputs": [
    {
     "name": "stdout",
     "output_type": "stream",
     "text": [
      "+---------+------------------+------------------+-------------+---------------+--------------+------------+------------------+----------------+----------+----+-----+\n",
      "|totalSong|     totalLifetime|avgSongsPerSession|totalThumbsup|totalThumbsdown|totalAddFriend|totalAddList| totalListenLength|totalInteraction|downgraded|paid|label|\n",
      "+---------+------------------+------------------+-------------+---------------+--------------+------------+------------------+----------------+----------+----+-----+\n",
      "|     3102| 62.09569444444444| 88.86206896551724|          135|             21|            33|          72| 648839.6085999997|            3102|         0|   1|    0|\n",
      "|     1863|120.89991898148149|              92.0|           72|             20|            26|          51|389584.29664000025|            1863|         1|   1|    0|\n",
      "|     6880| 80.60512731481482| 84.53731343283582|          277|             75|           143|         148|1410075.4463300004|            6880|         1|   1|    0|\n",
      "|     1102|13.099016203703703|132.42857142857142|           40|             13|            12|          30|225482.83847000013|            1102|         0|   1|    1|\n",
      "|     2067| 95.33168981481481|             108.0|           87|             18|            28|          53|429447.28833999985|            2067|         0|   1|    0|\n",
      "+---------+------------------+------------------+-------------+---------------+--------------+------------+------------------+----------------+----------+----+-----+\n",
      "only showing top 5 rows\n",
      "\n"
     ]
    }
   ],
   "source": [
    "# load data\n",
    "data = spark.read.load('model_df.json')\n",
    "data.show(5)"
   ]
  },
  {
   "cell_type": "markdown",
   "metadata": {},
   "source": [
    "## Vectorize features"
   ]
  },
  {
   "cell_type": "markdown",
   "metadata": {},
   "source": [
    "our dataset has 11 features including 9 numerical features and 2 binary features. We will first vectorize each feature and then build a pipeline "
   ]
  },
  {
   "cell_type": "code",
   "execution_count": 292,
   "metadata": {},
   "outputs": [],
   "source": [
    "numerical_cols = ['totalSong','totalLifetime','avgSongsPerSession','totalThumbsup','totalThumbsdown',\n",
    "                  'totalAddFriend','totalAddList','totalListenLength','totalInteraction']\n",
    "binary_cols = ['downgraded','paid']\n",
    "\n",
    "\n",
    "# Vectorize and standarize numerical features\n",
    "num_assembler = VectorAssembler(inputCols=numerical_cols, outputCol='num_vect')\n",
    "scaler = StandardScaler(inputCol='num_vect', outputCol='num_scaled', withStd= True, withMean=True)\n",
    "\n",
    "# Add binary features\n",
    "assembler = VectorAssembler(inputCols = binary_cols + [\"num_scaled\"], outputCol = \"features\")"
   ]
  },
  {
   "cell_type": "code",
   "execution_count": null,
   "metadata": {},
   "outputs": [],
   "source": []
  },
  {
   "cell_type": "code",
   "execution_count": 293,
   "metadata": {},
   "outputs": [
    {
     "ename": "SyntaxError",
     "evalue": "unexpected EOF while parsing (<ipython-input-293-6a578318d242>, line 2)",
     "output_type": "error",
     "traceback": [
      "\u001b[0;36m  File \u001b[0;32m\"<ipython-input-293-6a578318d242>\"\u001b[0;36m, line \u001b[0;32m2\u001b[0m\n\u001b[0;31m    \u001b[0m\n\u001b[0m    ^\u001b[0m\n\u001b[0;31mSyntaxError\u001b[0m\u001b[0;31m:\u001b[0m unexpected EOF while parsing\n"
     ]
    }
   ],
   "source": [
    "def evaluate(model):\n",
    "    "
   ]
  },
  {
   "cell_type": "markdown",
   "metadata": {},
   "source": [
    "## Train/test split"
   ]
  },
  {
   "cell_type": "code",
   "execution_count": 294,
   "metadata": {},
   "outputs": [
    {
     "name": "stdout",
     "output_type": "stream",
     "text": [
      "+---------+------------------+------------------+-------------+---------------+--------------+------------+------------------+----------------+----------+----+-----+\n",
      "|totalSong|     totalLifetime|avgSongsPerSession|totalThumbsup|totalThumbsdown|totalAddFriend|totalAddList| totalListenLength|totalInteraction|downgraded|paid|label|\n",
      "+---------+------------------+------------------+-------------+---------------+--------------+------------+------------------+----------------+----------+----+-----+\n",
      "|      117|124.55060185185185|              85.0|            6|              1|             3|           3|       19961.03902|             117|         0|   0|    0|\n",
      "|      292| 87.46262731481481| 23.88888888888889|            9|              3|             7|           7|53062.746589999995|             292|         0|   0|    0|\n",
      "|      310| 85.08340277777778|42.833333333333336|           17|              3|             6|           7|       67703.47208|             310|         0|   1|    1|\n",
      "|      315| 74.21925925925926|              61.5|           14|              2|             2|          10|61852.022359999966|             315|         0|   0|    0|\n",
      "|      319| 64.73886574074074|              46.0|           11|              5|             7|           7|57633.175639999994|             319|         0|   0|    1|\n",
      "|      321| 76.06190972222223|              50.2|           13|              2|             3|           6| 63629.99231999999|             321|         0|   1|    0|\n",
      "|      351| 74.17873842592593| 37.57142857142857|           21|              1|             8|           7| 65846.45058000002|             351|         0|   0|    0|\n",
      "|      381|  55.6436574074074|39.285714285714285|           17|              5|             4|           7|       66940.89735|             381|         0|   0|    0|\n",
      "|      394|157.05546296296296|              52.0|           35|              4|             8|           9| 77024.45929999997|             394|         0|   1|    0|\n",
      "|      411| 89.70524305555556|55.833333333333336|           38|              2|             8|           7|       84910.65959|             411|         0|   1|    0|\n",
      "|      457| 49.76208333333333|62.833333333333336|           14|              7|            11|          11| 94240.35148000003|             457|         0|   1|    1|\n",
      "|      457| 87.42347222222223|             94.25|           18|              5|             6|          13| 95068.01512999999|             457|         0|   1|    0|\n",
      "|      552| 28.42769675925926|            52.125|           19|             13|             9|          15| 103471.7455799999|             552|         0|   1|    1|\n",
      "|      589| 68.76866898148148|            124.75|           27|              2|             8|           9|120855.15336000003|             589|         0|   1|    0|\n",
      "|      614|133.00108796296297| 45.90909090909091|           27|              5|            12|          11|127877.88359000004|             614|         0|   1|    0|\n",
      "|      630| 76.95898148148147| 34.42857142857143|           19|              2|            17|          12|123749.29328000003|             630|         1|   1|    0|\n",
      "|      639|56.230057870370366|              49.5|           28|             17|             8|          18|121838.16904000004|             639|         1|   1|    0|\n",
      "|      651| 75.44710648148148|            62.875|           27|              3|             9|          12|122751.27560999995|             651|         0|   1|    0|\n",
      "|      764| 62.23815972222223|             105.5|           20|              6|            15|          15|      156542.79865|             764|         0|   1|    0|\n",
      "|      782|135.89708333333334|             164.0|           28|              6|            15|          21| 164815.4020000001|             782|         0|   1|    0|\n",
      "+---------+------------------+------------------+-------------+---------------+--------------+------------+------------------+----------------+----------+----+-----+\n",
      "only showing top 20 rows\n",
      "\n"
     ]
    }
   ],
   "source": [
    "train,val = data.randomSplit([0.8,0.2], seed=42)\n",
    "train.show()"
   ]
  },
  {
   "cell_type": "markdown",
   "metadata": {},
   "source": [
    "## Logistic Regression"
   ]
  },
  {
   "cell_type": "code",
   "execution_count": 295,
   "metadata": {},
   "outputs": [],
   "source": [
    "lr = LogisticRegression()\n",
    "pipeline_lr = Pipeline(stages=[num_assembler, scaler, assembler, lr])"
   ]
  },
  {
   "cell_type": "markdown",
   "metadata": {},
   "source": [
    "### Grid search CV"
   ]
  },
  {
   "cell_type": "code",
   "execution_count": 296,
   "metadata": {},
   "outputs": [],
   "source": [
    "# Parameter combinations\n",
    "param_grid_lr = ParamGridBuilder()\\\n",
    ".addGrid(lr.maxIter, [10, 30]) \\\n",
    ".addGrid(lr.regParam, [0.0, 0.1]) \\\n",
    ".addGrid(lr.elasticNetParam, [0.0, 0.5]) \\\n",
    ".build()\n",
    "\n",
    "# Grid search with cross validation\n",
    "crossval_lr = CrossValidator(estimator = pipeline_lr,\n",
    "                          estimatorParamMaps = param_grid_lr,\n",
    "                          evaluator = BinaryClassificationEvaluator(),\n",
    "                          #evaluator = F1score(),\n",
    "                          numFolds = 4)"
   ]
  },
  {
   "cell_type": "code",
   "execution_count": 298,
   "metadata": {},
   "outputs": [
    {
     "name": "stdout",
     "output_type": "stream",
     "text": [
      "Time spent: 29 seconds\n"
     ]
    }
   ],
   "source": [
    "# train model\n",
    "start = time.time()\n",
    "crossval_model_lr = crossval_lr.fit(train)\n",
    "end = time.time()\n",
    "print('Time spent: {} seconds'.format(round(end-start)))\n"
   ]
  },
  {
   "cell_type": "code",
   "execution_count": 299,
   "metadata": {},
   "outputs": [
    {
     "data": {
      "text/plain": [
       "[0.7416741087981356,\n",
       " 0.7416741087981356,\n",
       " 0.7376476243445098,\n",
       " 0.7532860585836114,\n",
       " 0.7415406668785423,\n",
       " 0.7415406668785423,\n",
       " 0.7376476243445098,\n",
       " 0.7532860585836114]"
      ]
     },
     "execution_count": 299,
     "metadata": {},
     "output_type": "execute_result"
    }
   ],
   "source": [
    "scores = crossval_model_lr.avgMetrics\n",
    "scores"
   ]
  },
  {
   "cell_type": "code",
   "execution_count": null,
   "metadata": {},
   "outputs": [],
   "source": []
  },
  {
   "cell_type": "code",
   "execution_count": null,
   "metadata": {},
   "outputs": [],
   "source": []
  },
  {
   "cell_type": "markdown",
   "metadata": {},
   "source": [
    "# Final Steps\n",
    "Clean up your code, adding comments and renaming variables to make the code easier to read and maintain. Refer to the Spark Project Overview page and Data Scientist Capstone Project Rubric to make sure you are including all components of the capstone project and meet all expectations. Remember, this includes thorough documentation in a README file in a Github repository, as well as a web app or blog post."
   ]
  },
  {
   "cell_type": "code",
   "execution_count": null,
   "metadata": {},
   "outputs": [],
   "source": []
  },
  {
   "cell_type": "code",
   "execution_count": null,
   "metadata": {},
   "outputs": [],
   "source": []
  },
  {
   "cell_type": "code",
   "execution_count": null,
   "metadata": {},
   "outputs": [],
   "source": []
  },
  {
   "cell_type": "code",
   "execution_count": null,
   "metadata": {},
   "outputs": [],
   "source": []
  },
  {
   "cell_type": "code",
   "execution_count": null,
   "metadata": {},
   "outputs": [],
   "source": []
  }
 ],
 "metadata": {
  "kernelspec": {
   "display_name": "Python 3",
   "language": "python",
   "name": "python3"
  },
  "language_info": {
   "codemirror_mode": {
    "name": "ipython",
    "version": 3
   },
   "file_extension": ".py",
   "mimetype": "text/x-python",
   "name": "python",
   "nbconvert_exporter": "python",
   "pygments_lexer": "ipython3",
   "version": "3.7.4"
  }
 },
 "nbformat": 4,
 "nbformat_minor": 2
}
